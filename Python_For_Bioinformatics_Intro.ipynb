{
 "cells": [
  {
   "cell_type": "markdown",
   "metadata": {
    "colab_type": "text",
    "id": "1Ycy34VcX4lu"
   },
   "source": [
    "# Bioinformatics Introduction to Python 3  \n",
    "Adopted from CSE 30 (Fall '19) taught by Luca de Alfaro for a bioinformatics audience. <br>\n",
    "Copyright Luca de Alfaro, 2018-19.  CC-BY-NC License.\n",
    "\n",
    "The following is only a brief overview of Python basics. Learning a programming language is like learning a language; there is a specific set of vocabulary used and expect to improve only through practice and repetition. I encourage all to explore online resources as well as the following pages for learning Python for bioinformatics.\n",
    "\n",
    "Additional learning resources:\n",
    "* [Rosalind](http://rosalind.info/problems/list-view/) - Practice bioinformatics problems\n",
    "* [Python Documentation](https://docs.python.org/3.8/tutorial/index.html) - Python 3.8 Official Documentation"
   ]
  },
  {
   "cell_type": "markdown",
   "metadata": {
    "colab_type": "text",
    "id": "iPp6yJhCApcR"
   },
   "source": [
    "## Print, and file input/output"
   ]
  },
  {
   "cell_type": "code",
   "execution_count": 1,
   "metadata": {
    "colab": {},
    "colab_type": "code",
    "id": "LR3MyRgwAuAT",
    "outputId": "d76257cb-2292-4377-8731-5f6df01feb2e"
   },
   "outputs": [
    {
     "name": "stdout",
     "output_type": "stream",
     "text": [
      "I have 3 chicken\n"
     ]
    }
   ],
   "source": [
    "# The print() function takes any number of arguments,\n",
    "# and prints them with intervening spaces:\n",
    "print(\"I have\", 3, 'chicken')"
   ]
  },
  {
   "cell_type": "code",
   "execution_count": 2,
   "metadata": {
    "colab": {},
    "colab_type": "code",
    "id": "pJNS96GMA71h",
    "outputId": "65d5e06f-4484-4e36-91d7-e8468a166801"
   },
   "outputs": [
    {
     "name": "stdout",
     "output_type": "stream",
     "text": [
      "I have 3 chicken\n",
      "10 is divisible by 2\n"
     ]
    }
   ],
   "source": [
    "# We can also use {} and .format() to specify a string with {} holes, \n",
    "# which are filled by the arguments of .format(): \n",
    "print(\"I have {} chicken\".format(3))\n",
    "print(\"{} is divisible by {}\".format(10, 2))"
   ]
  },
  {
   "cell_type": "code",
   "execution_count": 3,
   "metadata": {
    "colab": {},
    "colab_type": "code",
    "id": "GZNGrOqfBO5J",
    "outputId": "4cdf1497-8d8b-46a6-a1e2-7a002ecaf01f"
   },
   "outputs": [
    {
     "name": "stdout",
     "output_type": "stream",
     "text": [
      "A gazillion is 15.68% less than a bazillion\n"
     ]
    }
   ],
   "source": [
    "# You can also use formatting options to specify the number of \n",
    "# digits to print for floating point numbers, etc. \n",
    "print(\"A gazillion is {:.2f}% less than a bazillion\".format(15.67980))"
   ]
  },
  {
   "cell_type": "markdown",
   "metadata": {
    "colab_type": "text",
    "id": "xFAS-L5uZtff"
   },
   "source": [
    "## Strings"
   ]
  },
  {
   "cell_type": "code",
   "execution_count": 4,
   "metadata": {
    "colab": {},
    "colab_type": "code",
    "id": "2zNELDI6Y4bi"
   },
   "outputs": [],
   "source": [
    "# Strings can be built using either ' or \" as delimiters.\n",
    "# If you use ', the string can contain \" inside, and vice versa.\n",
    "s = 'A string'\n",
    "t = \"It's nice to be able to choose the delimiters\""
   ]
  },
  {
   "cell_type": "code",
   "execution_count": 5,
   "metadata": {
    "colab": {},
    "colab_type": "code",
    "id": "xVCjndNn9N2f",
    "outputId": "dbb7bae1-b155-4d2e-9603-e148bbb73b04"
   },
   "outputs": [
    {
     "name": "stdout",
     "output_type": "stream",
     "text": [
      "A string It's nice to be able to choose the delimiters\n"
     ]
    }
   ],
   "source": [
    "# You can use + to concatenate strings:\n",
    "print(s + \" \" + t)"
   ]
  },
  {
   "cell_type": "code",
   "execution_count": 6,
   "metadata": {
    "colab": {},
    "colab_type": "code",
    "id": "h0vkoGrTZir7",
    "outputId": "e9f1e4cc-5984-4555-9a24-9e989ab12e44"
   },
   "outputs": [
    {
     "name": "stdout",
     "output_type": "stream",
     "text": [
      "[\"It's\", 'nice', 'to', 'be', 'able', 'to', 'choose', 'the', 'delimiters']\n"
     ]
    }
   ],
   "source": [
    "# You can split a string according to spaces:\n",
    "l = t.split()\n",
    "print(l)"
   ]
  },
  {
   "cell_type": "code",
   "execution_count": 7,
   "metadata": {
    "colab": {},
    "colab_type": "code",
    "id": "uKE_8q0sZnvr",
    "outputId": "d51bdbe2-eb80-42ac-a2ae-fa9950b62c01"
   },
   "outputs": [
    {
     "data": {
      "text/plain": [
       "[\"It's nice to be \", 'ble to choose the delimiters']"
      ]
     },
     "execution_count": 7,
     "metadata": {},
     "output_type": "execute_result"
    }
   ],
   "source": [
    "# Or you can split it according to any character:\n",
    "t.split('a')"
   ]
  },
  {
   "cell_type": "code",
   "execution_count": 8,
   "metadata": {
    "colab": {},
    "colab_type": "code",
    "id": "eXtxIMy4E7v2",
    "outputId": "a215bdfe-e7d0-4c5d-f987-2513f2c26ed1"
   },
   "outputs": [
    {
     "data": {
      "text/plain": [
       "\"It's nice to be able to choose the delimiters\""
      ]
     },
     "execution_count": 8,
     "metadata": {},
     "output_type": "execute_result"
    }
   ],
   "source": [
    "# You can also put back a string you have split, using .join()\n",
    "# Yes, it's weird; had I invented the .join operation, I would \n",
    "# have defined it as an operation of lists (rather than strings),\n",
    "# so that one would write l.join(' ') rather than ' '.join(l). \n",
    "# But once you learn it, you get used to it. \n",
    "' '.join(l)"
   ]
  },
  {
   "cell_type": "code",
   "execution_count": 9,
   "metadata": {
    "colab": {},
    "colab_type": "code",
    "id": "dJ5gjcRHgnPh",
    "outputId": "5bc0eba2-01a7-4ee7-d161-52c23935d99a"
   },
   "outputs": [
    {
     "data": {
      "text/plain": [
       "'to be able to choose the delimiters'"
      ]
     },
     "execution_count": 9,
     "metadata": {},
     "output_type": "execute_result"
    }
   ],
   "source": [
    "# A string can also be addressed as if it were a list of its characters,\n",
    "# using indexing and slicing:\n",
    "t[10:]"
   ]
  },
  {
   "cell_type": "markdown",
   "metadata": {
    "colab_type": "text",
    "id": "PNT4q5Ks7v79"
   },
   "source": [
    "## Conditionals"
   ]
  },
  {
   "cell_type": "code",
   "execution_count": 10,
   "metadata": {
    "colab": {},
    "colab_type": "code",
    "id": "SVoA-VsT7ys_",
    "outputId": "3ac22dc6-c6bc-4365-e81c-93c07dc3f495"
   },
   "outputs": [
    {
     "data": {
      "text/plain": [
       "True"
      ]
     },
     "execution_count": 10,
     "metadata": {},
     "output_type": "execute_result"
    }
   ],
   "source": [
    "# You can build boolean expressions with the usual relational operators\n",
    "# <, <=, >, >=, == (double equal sign tests for equality), \n",
    "# and != (\"!\" represents not)\n",
    "3 < 4"
   ]
  },
  {
   "cell_type": "markdown",
   "metadata": {
    "colab_type": "text",
    "id": "0ZEC4V3pjalH"
   },
   "source": [
    "## Integers, floats, strings, booleans, and ... None!"
   ]
  },
  {
   "cell_type": "code",
   "execution_count": 11,
   "metadata": {
    "colab": {},
    "colab_type": "code",
    "id": "9DzUH9EWXmvR"
   },
   "outputs": [],
   "source": [
    "# In python there are numbers, which can be integer or float. \n",
    "x = 1 # int\n",
    "y = 1. # float"
   ]
  },
  {
   "cell_type": "code",
   "execution_count": 12,
   "metadata": {
    "colab": {},
    "colab_type": "code",
    "id": "vKMUHQtJ93DU",
    "outputId": "a9723acc-2376-45a0-92fd-9aaa1dcad7a1"
   },
   "outputs": [
    {
     "name": "stdout",
     "output_type": "stream",
     "text": [
      "2.0\n",
      "2\n"
     ]
    }
   ],
   "source": [
    "# You can sum, multiply, subtract numbers, and the result is integer iff\n",
    "# both operands are integers. \n",
    "print(x + y)\n",
    "print(x + 1)"
   ]
  },
  {
   "cell_type": "code",
   "execution_count": 13,
   "metadata": {
    "colab": {},
    "colab_type": "code",
    "id": "1ypAUKH8YfAN",
    "outputId": "8e704145-1188-4c0c-9ea0-61bfd0613177"
   },
   "outputs": [
    {
     "data": {
      "text/plain": [
       "0.5"
      ]
     },
     "execution_count": 13,
     "metadata": {},
     "output_type": "execute_result"
    }
   ],
   "source": [
    "# In Python 3, division between integers generates a float.\n",
    "# This remedies a long-standing \"trap\" in Python 2, where 1 / 2 = 0, because \n",
    "# division between integers returned an integer: the quotient. \n",
    "x/2"
   ]
  },
  {
   "cell_type": "code",
   "execution_count": 14,
   "metadata": {
    "colab": {},
    "colab_type": "code",
    "id": "8GHf-9dH9oFu",
    "outputId": "584f221b-85df-4d64-9752-04a4e9bda413"
   },
   "outputs": [
    {
     "name": "stdout",
     "output_type": "stream",
     "text": [
      "2\n",
      "1\n"
     ]
    }
   ],
   "source": [
    "# In Python 3, integer division (quotient) is written //, \n",
    "# and remainder is written %\n",
    "print (7 // 3) \n",
    "print (7 % 3)"
   ]
  },
  {
   "cell_type": "code",
   "execution_count": 15,
   "metadata": {
    "colab": {},
    "colab_type": "code",
    "id": "1jV22BHoYt8F",
    "outputId": "f2da2e4f-7db9-40e0-f015-6ffb73d8e04f"
   },
   "outputs": [
    {
     "name": "stdout",
     "output_type": "stream",
     "text": [
      "It's nice to be able to choose the delimiters\n"
     ]
    }
   ],
   "source": [
    "# There are also strings in Python.  They can be delimited with either \" or '.\n",
    "s = 'A string'\n",
    "t = \"It's nice to be able to choose the delimiters\"\n",
    "print(t)"
   ]
  },
  {
   "cell_type": "code",
   "execution_count": 16,
   "metadata": {
    "colab": {},
    "colab_type": "code",
    "id": "V2iquQzZjGAL",
    "outputId": "e6f198ed-ec96-4700-9756-d201e2f3e018"
   },
   "outputs": [
    {
     "name": "stdout",
     "output_type": "stream",
     "text": [
      "False\n"
     ]
    }
   ],
   "source": [
    "# The other basic data type is booleans.  They are 'True' and 'False'.\n",
    "b = True\n",
    "print(not b)"
   ]
  },
  {
   "cell_type": "code",
   "execution_count": 17,
   "metadata": {
    "colab": {},
    "colab_type": "code",
    "id": "tYki8KdKjNUc",
    "outputId": "ff43df67-5640-419e-9dea-4f0fd73e44b6"
   },
   "outputs": [
    {
     "name": "stdout",
     "output_type": "stream",
     "text": [
      "True\n",
      "False\n"
     ]
    }
   ],
   "source": [
    "# Relational operators, obviously enough, have boolean result:\n",
    "print(4 < 8)\n",
    "print(4 == 8)"
   ]
  },
  {
   "cell_type": "code",
   "execution_count": 18,
   "metadata": {
    "colab": {},
    "colab_type": "code",
    "id": "fJNJLuAmjoZ0",
    "outputId": "3853a2f4-21a4-4cc0-9ebb-ea86ab00862e"
   },
   "outputs": [
    {
     "name": "stdout",
     "output_type": "stream",
     "text": [
      "None\n"
     ]
    }
   ],
   "source": [
    "# There's a special value in Python that means, no value.  It's called None. \n",
    "c = None\n",
    "print(c)"
   ]
  },
  {
   "cell_type": "code",
   "execution_count": 19,
   "metadata": {
    "colab": {},
    "colab_type": "code",
    "id": "M5UsSCiR-G1r",
    "outputId": "cb0f613f-9846-4c61-eb6c-39c7b7180247"
   },
   "outputs": [
    {
     "name": "stdout",
     "output_type": "stream",
     "text": [
      "4\n",
      "12\n"
     ]
    }
   ],
   "source": [
    "# The operators +, -, *, /, can also be used with the following shorthand:\n",
    "x = 2\n",
    "x = x + 1\n",
    "x += 1 # Same as above\n",
    "print(x)\n",
    "x *= 3 \n",
    "print(x)"
   ]
  },
  {
   "cell_type": "markdown",
   "metadata": {},
   "source": [
    "# Data Structures\n",
    "Lists, tuples, sets, and dictionaries are provided data structures within Python. <br>\n",
    "Official Documentation: https://docs.python.org/3/tutorial/datastructures.html#\n",
    "\n"
   ]
  },
  {
   "cell_type": "markdown",
   "metadata": {
    "colab_type": "text",
    "id": "TA461_UgZxs7"
   },
   "source": [
    "## Lists and tuples"
   ]
  },
  {
   "cell_type": "markdown",
   "metadata": {
    "colab_type": "text",
    "id": "FrOuZWcdbkyh"
   },
   "source": [
    "### Lists"
   ]
  },
  {
   "cell_type": "code",
   "execution_count": 20,
   "metadata": {
    "colab": {},
    "colab_type": "code",
    "id": "_DZtN4diZ3CG",
    "outputId": "266ed6ff-7bb8-403d-e7fd-a50be497d137"
   },
   "outputs": [
    {
     "name": "stdout",
     "output_type": "stream",
     "text": [
      "['taa', 'tag', 'tga']\n",
      "taa\n",
      "tag\n"
     ]
    }
   ],
   "source": [
    "# Lists are one of the basic data types in Python.\n",
    "l = ['taa', 'tag', 'tga']\n",
    "print(l)\n",
    "\n",
    "# index elements with arrays starting at 0\n",
    "print(l[0])\n",
    "print(l[1])"
   ]
  },
  {
   "cell_type": "markdown",
   "metadata": {
    "colab_type": "text",
    "id": "23NhvjOzSlu4"
   },
   "source": [
    "### List slicing"
   ]
  },
  {
   "cell_type": "code",
   "execution_count": 21,
   "metadata": {
    "colab": {},
    "colab_type": "code",
    "id": "Tjb1t38Maxg6",
    "outputId": "2c6f3f5b-c019-4a3b-edbd-390ffb09506b"
   },
   "outputs": [
    {
     "data": {
      "text/plain": [
       "['taa', 'tag', 'tga']"
      ]
     },
     "execution_count": 21,
     "metadata": {},
     "output_type": "execute_result"
    }
   ],
   "source": [
    "# You can 'slice' (yeah, that's a technical term) the beginning and end of a list:\n",
    "l = ['taa', 'tag', 'tga', 'uag', 'uaa', 'uga']\n",
    "l[:3] # Till element 3, excluded"
   ]
  },
  {
   "cell_type": "code",
   "execution_count": 22,
   "metadata": {
    "colab": {},
    "colab_type": "code",
    "id": "9NM7TvV8bH1E",
    "outputId": "ec47b1c0-2f74-4ba0-c062-c4d69bda2c71"
   },
   "outputs": [
    {
     "data": {
      "text/plain": [
       "['uag', 'uaa', 'uga']"
      ]
     },
     "execution_count": 22,
     "metadata": {},
     "output_type": "execute_result"
    }
   ],
   "source": [
    "l[3:] # From element 3 onwards"
   ]
  },
  {
   "cell_type": "code",
   "execution_count": 23,
   "metadata": {
    "colab": {},
    "colab_type": "code",
    "id": "J34q3HkQbL8O",
    "outputId": "025cbc49-fc0c-4b16-dc1e-0e6763a982e6"
   },
   "outputs": [
    {
     "name": "stdout",
     "output_type": "stream",
     "text": [
      "['tag', 'tga']\n"
     ]
    }
   ],
   "source": [
    "print(l[1:3]) # From element 1 included, to element 3 excluded"
   ]
  },
  {
   "cell_type": "code",
   "execution_count": 24,
   "metadata": {
    "colab": {},
    "colab_type": "code",
    "id": "NWjv2RR6bR7D",
    "outputId": "55789970-8cd6-45dd-96bc-7adcec17a159"
   },
   "outputs": [
    {
     "data": {
      "text/plain": [
       "'uga'"
      ]
     },
     "execution_count": 24,
     "metadata": {},
     "output_type": "execute_result"
    }
   ],
   "source": [
    "# If you use negative numbers, they count backwards from the end\n",
    "# of the list.  It's weird, but very useful.\n",
    "l[-1] # This is the last element"
   ]
  },
  {
   "cell_type": "markdown",
   "metadata": {
    "colab_type": "text",
    "id": "Zb4bybUiS3qz"
   },
   "source": [
    "### List operations"
   ]
  },
  {
   "cell_type": "code",
   "execution_count": 25,
   "metadata": {
    "colab": {},
    "colab_type": "code",
    "id": "oHfOp8ZHbvby",
    "outputId": "f4afaa14-85af-4ada-9207-c44dffd4aa03"
   },
   "outputs": [
    {
     "data": {
      "text/plain": [
       "['taa', 'tag', 'tga', 'uag', 'uaa', 'uga', 'atg']"
      ]
     },
     "execution_count": 25,
     "metadata": {},
     "output_type": "execute_result"
    }
   ],
   "source": [
    "# You append an element to a list like so:\n",
    "l.append('atg')\n",
    "l"
   ]
  },
  {
   "cell_type": "code",
   "execution_count": 26,
   "metadata": {
    "colab": {},
    "colab_type": "code",
    "id": "QR9hG_KTb4ZK",
    "outputId": "5cb340d3-366c-486b-c7cf-c875ee0bed84"
   },
   "outputs": [
    {
     "data": {
      "text/plain": [
       "['taa', 'tag', 'tga', 'uag', 'uaa', 'uga', 'atg', 'aug']"
      ]
     },
     "execution_count": 26,
     "metadata": {},
     "output_type": "execute_result"
    }
   ],
   "source": [
    "# You can sum two lists.  \n",
    "l + ['aug']"
   ]
  },
  {
   "cell_type": "code",
   "execution_count": 27,
   "metadata": {
    "colab": {},
    "colab_type": "code",
    "id": "17usDLW8YEgg",
    "outputId": "6764a518-bf81-43ac-954f-8550e08b612a"
   },
   "outputs": [
    {
     "name": "stdout",
     "output_type": "stream",
     "text": [
      "uag\n",
      "['taa', 'tag', 'tga', 'uaa', 'uga', 'atg']\n"
     ]
    }
   ],
   "source": [
    "# There are many more list operations.  Among them:\n",
    "# You can 'pop' (retrieve, and remove) an element in any position:\n",
    "x = l.pop(3)\n",
    "print(x)\n",
    "print(l)"
   ]
  },
  {
   "cell_type": "code",
   "execution_count": 28,
   "metadata": {
    "colab": {},
    "colab_type": "code",
    "id": "g0LQEbSWYYRM",
    "outputId": "288f21e9-5bea-463d-de4c-1b5717195ba8"
   },
   "outputs": [
    {
     "data": {
      "text/plain": [
       "['atg', 'uga', 'uaa', 'tga', 'tag', 'taa']"
      ]
     },
     "execution_count": 28,
     "metadata": {},
     "output_type": "execute_result"
    }
   ],
   "source": [
    "# You can obtain the reverse of a list:\n",
    "l.reverse()\n",
    "l"
   ]
  },
  {
   "cell_type": "code",
   "execution_count": 29,
   "metadata": {
    "colab": {},
    "colab_type": "code",
    "id": "Z5HupjJwY9dD",
    "outputId": "5bc8a873-140f-4431-8510-5e67e93ad2b1"
   },
   "outputs": [
    {
     "data": {
      "text/plain": [
       "['atg', 'aug', 'taa', 'tag', 'tga', 'uaa', 'uga']"
      ]
     },
     "execution_count": 29,
     "metadata": {},
     "output_type": "execute_result"
    }
   ],
   "source": [
    "# And you can sort the list (the sort command has options; see Python docs).\n",
    "l = l + ['aug']\n",
    "l.sort()\n",
    "l"
   ]
  },
  {
   "cell_type": "code",
   "execution_count": 30,
   "metadata": {
    "colab": {},
    "colab_type": "code",
    "id": "qX3ZXVoYcXt8",
    "outputId": "2cebaeee-270e-4a13-ac58-01258bcd2e62"
   },
   "outputs": [
    {
     "name": "stdout",
     "output_type": "stream",
     "text": [
      "ATG\n",
      "tag\n"
     ]
    }
   ],
   "source": [
    "# You can apply one operation to all elements of a list like this. \n",
    "print(\"atg\".upper())\n",
    "print(\"TAG\".lower())"
   ]
  },
  {
   "cell_type": "code",
   "execution_count": 31,
   "metadata": {
    "colab": {},
    "colab_type": "code",
    "id": "uPz_gWlHemaf",
    "outputId": "b23c3d30-a5b4-489e-c2df-fb4d499dc0d8"
   },
   "outputs": [
    {
     "name": "stdout",
     "output_type": "stream",
     "text": [
      "7\n"
     ]
    }
   ],
   "source": [
    "# You can get the length of a string, or a list, with the len() operator.\n",
    "print(len(l))"
   ]
  },
  {
   "cell_type": "markdown",
   "metadata": {
    "colab_type": "text",
    "id": "P7-9n_PTeZEk"
   },
   "source": [
    "See the [official documentation](https://docs.python.org/3.7/tutorial/datastructures.html) for more list functions."
   ]
  },
  {
   "cell_type": "markdown",
   "metadata": {
    "colab_type": "text",
    "id": "At7-_WM6bn6A"
   },
   "source": [
    "### Tuples"
   ]
  },
  {
   "cell_type": "code",
   "execution_count": 32,
   "metadata": {
    "colab": {},
    "colab_type": "code",
    "id": "7oy34EaEbrjC",
    "outputId": "40bbdd79-2dc0-4280-9eac-596a0671f871"
   },
   "outputs": [
    {
     "name": "stdout",
     "output_type": "stream",
     "text": [
      "1.0 2.0\n"
     ]
    }
   ],
   "source": [
    "# Tuples are kind of like lists, except they are immutable.\n",
    "# Here are two points in 2-D.\n",
    "p1 = (1., 2.)\n",
    "p2 = (3.1, 3.2)\n",
    "# The useful thing with tuples is that they are easy to take apart.\n",
    "# Whereas a beginner would write\n",
    "x = p1[0]\n",
    "y = p1[1]\n",
    "print (x, y)\n"
   ]
  },
  {
   "cell_type": "code",
   "execution_count": 33,
   "metadata": {
    "colab": {},
    "colab_type": "code",
    "id": "0gfdrkwrfdho",
    "outputId": "7349744f-57ca-446c-ade3-7073ea3387ca"
   },
   "outputs": [
    {
     "name": "stdout",
     "output_type": "stream",
     "text": [
      "1.0 2.0\n"
     ]
    }
   ],
   "source": [
    "# anyone with a bit of Python experience would instead write: \n",
    "x, y = p1\n",
    "print(x, y)"
   ]
  },
  {
   "cell_type": "code",
   "execution_count": 34,
   "metadata": {
    "colab": {},
    "colab_type": "code",
    "id": "W4loQJ6eflCt",
    "outputId": "f6c46400-277d-4bcc-ffd6-51c4921d7449"
   },
   "outputs": [
    {
     "name": "stdout",
     "output_type": "stream",
     "text": [
      "Traceback (most recent call last):\n",
      "  File \"<ipython-input-34-68d824c166f0>\", line 5, in <module>\n",
      "    x, y, z = p2 # p2 has only two points\n",
      "ValueError: not enough values to unpack (expected 3, got 2)\n",
      "\n"
     ]
    }
   ],
   "source": [
    "# Of course, the above works only if the tuple of variables on the left hand side\n",
    "# is the same length as the tuple on the right hand side!\n",
    "import traceback\n",
    "try:\n",
    "    x, y, z = p2 # p2 has only two points\n",
    "except:\n",
    "    print(traceback.format_exc())"
   ]
  },
  {
   "cell_type": "markdown",
   "metadata": {
    "colab_type": "text",
    "id": "8USdvrcJvk9n"
   },
   "source": [
    "## Sets"
   ]
  },
  {
   "cell_type": "code",
   "execution_count": 35,
   "metadata": {
    "colab": {},
    "colab_type": "code",
    "id": "I4fH86tXQOHh",
    "outputId": "f046035f-a504-42ff-df18-25f2f4fbe172"
   },
   "outputs": [
    {
     "name": "stdout",
     "output_type": "stream",
     "text": [
      "set()\n"
     ]
    }
   ],
   "source": [
    "# Sets are data structures that represent... sets.  Sets are like lists, \n",
    "# except that they cannot have repeated elements.\n",
    "s = set() # {} would be a dictionary\n",
    "print(s)"
   ]
  },
  {
   "cell_type": "code",
   "execution_count": 36,
   "metadata": {
    "colab": {},
    "colab_type": "code",
    "id": "qn2s3Cd42bmp"
   },
   "outputs": [],
   "source": [
    "set1 = {'cat', 'dog'}\n",
    "set2 = {'bird', 'mouse', 'cat'}\n",
    "set3 = {'dog', 'cat'}"
   ]
  },
  {
   "cell_type": "code",
   "execution_count": 37,
   "metadata": {
    "colab": {},
    "colab_type": "code",
    "id": "Xr5tRiD32sCE",
    "outputId": "5c8d50dc-8a1e-45f2-a299-f789ef2e39e1"
   },
   "outputs": [
    {
     "name": "stdout",
     "output_type": "stream",
     "text": [
      "{'cat', 'bird', 'dog', 'mouse'}\n",
      "{'cat'}\n",
      "{'dog'}\n"
     ]
    }
   ],
   "source": [
    "# We can take union, intersection, and difference of sets:\n",
    "print(set1 | set2) # union\n",
    "print(set1 & set2) # intersection\n",
    "print(set1 - set2) # difference"
   ]
  },
  {
   "cell_type": "code",
   "execution_count": 38,
   "metadata": {
    "colab": {},
    "colab_type": "code",
    "id": "PIO500l13Ws4",
    "outputId": "15b9a670-4118-4c6b-be50-16d69406eda7"
   },
   "outputs": [
    {
     "data": {
      "text/plain": [
       "True"
      ]
     },
     "execution_count": 38,
     "metadata": {},
     "output_type": "execute_result"
    }
   ],
   "source": [
    "# Set equality is defined as element-wise equality\n",
    "# (order does not matter)\n",
    "set1 == set3"
   ]
  },
  {
   "cell_type": "code",
   "execution_count": 39,
   "metadata": {
    "colab": {},
    "colab_type": "code",
    "id": "u_9zfkUO3CPX",
    "outputId": "158ab47a-0c58-478f-ccd7-b83e9ced74eb"
   },
   "outputs": [
    {
     "name": "stdout",
     "output_type": "stream",
     "text": [
      "{'cat', 'dog', 'duck'}\n",
      "{'cat', 'dog', 'duck'}\n"
     ]
    }
   ],
   "source": [
    "# We can add elements to a set... \n",
    "set1.add('duck')\n",
    "print(set1)\n",
    "set1.add('dog')\n",
    "print(set1)\n",
    "# ... and as you can see, sets really have no repeated elements,\n",
    "# so if you add a dog to a set containing already a dog, \n",
    "# nothing changes."
   ]
  },
  {
   "cell_type": "code",
   "execution_count": 40,
   "metadata": {
    "colab": {},
    "colab_type": "code",
    "id": "cDPz2PAG4-72",
    "outputId": "528e86ce-7b8a-47f2-e15a-88044c75b086"
   },
   "outputs": [
    {
     "name": "stdout",
     "output_type": "stream",
     "text": [
      "True\n",
      "False\n"
     ]
    }
   ],
   "source": [
    "# And we can test membership using \"in\", just like for lists.\n",
    "print('cat' in set1)\n",
    "print('opossum' in set1)"
   ]
  },
  {
   "cell_type": "code",
   "execution_count": 41,
   "metadata": {
    "colab": {},
    "colab_type": "code",
    "id": "pgEPm8WW4Gpl",
    "outputId": "957d0fc6-1224-4628-98e1-2cb546b44459"
   },
   "outputs": [
    {
     "data": {
      "text/plain": [
       "['a', 'c', 'b', 'g', 'd', 'f']"
      ]
     },
     "execution_count": 41,
     "metadata": {},
     "output_type": "execute_result"
    }
   ],
   "source": [
    "# A quick way to remove duplicates from a list is to turn it \n",
    "# into a set, then back into the list.  This loses the ordering though,\n",
    "# as sets do not preserve the order of the elements of the lists\n",
    "# from which they were created:\n",
    "l = ['a', 'b', 'c', 'g', 'c', 'd', 'f', 'g']\n",
    "l_uniq = list(set(l))\n",
    "l_uniq\n"
   ]
  },
  {
   "cell_type": "markdown",
   "metadata": {
    "colab_type": "text",
    "id": "IyTNBT8sh-UE"
   },
   "source": [
    "## Dictionaries\n",
    "\n",
    "[Dictionaries](https://docs.python.org/3/tutorial/datastructures.html#dictionaries) are a powerful data structure provided in Python that are quite useful in bioinformatics. The classic example is a dictionary translating DNA codons to amino acid."
   ]
  },
  {
   "cell_type": "code",
   "execution_count": 42,
   "metadata": {
    "colab": {},
    "colab_type": "code",
    "id": "MQXjLViBgx7T"
   },
   "outputs": [],
   "source": [
    "# Dictionaries in Python are essentially maps between sets, or, one-to-many functions. \n",
    "# Or if you are in CS, they are like hash tables.  In fact, turns out they are hash tables.\n",
    "# Except you don't need to worry about their implementation. \n",
    "# Enough said, let's define one.\n",
    "codon_count = {'atg': 4, 'taa': 0, 'tag': 2, 'tga': 0}"
   ]
  },
  {
   "cell_type": "code",
   "execution_count": 43,
   "metadata": {
    "colab": {},
    "colab_type": "code",
    "id": "conzHq0cxigR",
    "outputId": "b5bd0b4e-17f8-4312-95fe-3b08eb0c7914"
   },
   "outputs": [
    {
     "data": {
      "text/plain": [
       "{'atg': 4, 'taa': 4, 'tag': 2, 'tga': 0}"
      ]
     },
     "execution_count": 43,
     "metadata": {},
     "output_type": "execute_result"
    }
   ],
   "source": [
    "# You can also build a dictionary like this:\n",
    "d = dict(atg=4, taa=4, tag=2, tga=0)\n",
    "# Of course, the keys need to be variable names...\n",
    "d"
   ]
  },
  {
   "cell_type": "code",
   "execution_count": 44,
   "metadata": {
    "colab": {},
    "colab_type": "code",
    "id": "cQmzw2CwiTP-",
    "outputId": "8ee9b635-d37b-42b2-cabf-9523bd75a380"
   },
   "outputs": [
    {
     "data": {
      "text/plain": [
       "4"
      ]
     },
     "execution_count": 44,
     "metadata": {},
     "output_type": "execute_result"
    }
   ],
   "source": [
    "# Dictionaries can be indexed with [] notation like list indexing, \n",
    "# except they are indexed by their \"keys\", not by integers.\n",
    "codon_count['atg']"
   ]
  },
  {
   "cell_type": "code",
   "execution_count": 45,
   "metadata": {
    "colab": {},
    "colab_type": "code",
    "id": "BL4F480njCHe",
    "outputId": "79b97308-2256-4274-b2c3-7557c2993b38"
   },
   "outputs": [
    {
     "name": "stdout",
     "output_type": "stream",
     "text": [
      "4\n",
      "None\n"
     ]
    }
   ],
   "source": [
    "# If you are not sure whether a key is in the dictionary, you can use .get() \n",
    "# rather than []:\n",
    "print(codon_count.get('atg'))\n",
    "print(codon_count.get('aaa'))"
   ]
  },
  {
   "cell_type": "code",
   "execution_count": 46,
   "metadata": {
    "colab": {},
    "colab_type": "code",
    "id": "yFPoZI56i4w7",
    "outputId": "b7b74fc4-32fa-431d-cdc0-9f30bb6f0623"
   },
   "outputs": [
    {
     "name": "stdout",
     "output_type": "stream",
     "text": [
      "True\n",
      "False\n"
     ]
    }
   ],
   "source": [
    "# You can check whehter something is in a dictionary with the 'in' operator:\n",
    "print(\"atg\" in codon_count)\n",
    "print(\"aaa\" in codon_count)"
   ]
  },
  {
   "cell_type": "code",
   "execution_count": 47,
   "metadata": {
    "colab": {},
    "colab_type": "code",
    "id": "qfGktFTkO9Sj",
    "outputId": "b38cc61e-2ea7-45da-9092-9eea169af996"
   },
   "outputs": [
    {
     "name": "stdout",
     "output_type": "stream",
     "text": [
      "RNA codon GCU translates to amino acid:  A\n"
     ]
    }
   ],
   "source": [
    "# Let's define a dictionary mapping codons to amino acid,\n",
    "rnaCodonTable = {\n",
    "        # RNA codon table\n",
    "        # U\n",
    "        'UUU': 'F', 'UCU': 'S', 'UAU': 'Y', 'UGU': 'C',  # UxU\n",
    "        'UUC': 'F', 'UCC': 'S', 'UAC': 'Y', 'UGC': 'C',  # UxC\n",
    "        'UUA': 'L', 'UCA': 'S', 'UAA': '-', 'UGA': '-',  # UxA\n",
    "        'UUG': 'L', 'UCG': 'S', 'UAG': '-', 'UGG': 'W',  # UxG\n",
    "        # C\n",
    "        'CUU': 'L', 'CCU': 'P', 'CAU': 'H', 'CGU': 'R',  # CxU\n",
    "        'CUC': 'L', 'CCC': 'P', 'CAC': 'H', 'CGC': 'R',  # CxC\n",
    "        'CUA': 'L', 'CCA': 'P', 'CAA': 'Q', 'CGA': 'R',  # CxA\n",
    "        'CUG': 'L', 'CCG': 'P', 'CAG': 'Q', 'CGG': 'R',  # CxG\n",
    "        # A\n",
    "        'AUU': 'I', 'ACU': 'T', 'AAU': 'N', 'AGU': 'S',  # AxU\n",
    "        'AUC': 'I', 'ACC': 'T', 'AAC': 'N', 'AGC': 'S',  # AxC\n",
    "        'AUA': 'I', 'ACA': 'T', 'AAA': 'K', 'AGA': 'R',  # AxA\n",
    "        'AUG': 'M', 'ACG': 'T', 'AAG': 'K', 'AGG': 'R',  # AxG\n",
    "        # G\n",
    "        'GUU': 'V', 'GCU': 'A', 'GAU': 'D', 'GGU': 'G',  # GxU\n",
    "        'GUC': 'V', 'GCC': 'A', 'GAC': 'D', 'GGC': 'G',  # GxC\n",
    "        'GUA': 'V', 'GCA': 'A', 'GAA': 'E', 'GGA': 'G',  # GxA\n",
    "        'GUG': 'V', 'GCG': 'A', 'GAG': 'E', 'GGG': 'G'   # GxG\n",
    "    }\n",
    "\n",
    "print('RNA codon GCU translates to amino acid: ',rnaCodonTable['GCU'])"
   ]
  },
  {
   "cell_type": "markdown",
   "metadata": {
    "colab_type": "text",
    "id": "rvyZ-Pegu2Uu"
   },
   "source": [
    "#### Dictionary keys, values, and key-value pairs"
   ]
  },
  {
   "cell_type": "code",
   "execution_count": 48,
   "metadata": {
    "colab": {},
    "colab_type": "code",
    "id": "xyz8v8q2ieNJ",
    "outputId": "8b02e030-448b-45fc-f57a-7d16c688960a"
   },
   "outputs": [
    {
     "data": {
      "text/plain": [
       "dict_keys(['atg', 'taa', 'tag', 'tga'])"
      ]
     },
     "execution_count": 48,
     "metadata": {},
     "output_type": "execute_result"
    }
   ],
   "source": [
    "# You can ask for the list of keys of a dictionary:\n",
    "codon_count.keys()"
   ]
  },
  {
   "cell_type": "code",
   "execution_count": 49,
   "metadata": {
    "colab": {},
    "colab_type": "code",
    "id": "PfqWIsFvpWP0",
    "outputId": "6ae48666-68ff-4bff-9a49-196120097974"
   },
   "outputs": [
    {
     "name": "stdout",
     "output_type": "stream",
     "text": [
      "dict_keys(['atg', 'taa', 'tag', 'tga'])\n",
      "{'atg': 4, 'taa': 0, 'tag': 2, 'tga': 0, 'gac': 6}\n"
     ]
    }
   ],
   "source": [
    "# What's that dict_keys(...) thing?  It turns out that in Python 3,\n",
    "# keys() returns a _view_ over the dictionary keys.  The view is dynamically\n",
    "# updated to reflect changes in the underlying dictionary:\n",
    "codons = codon_count.keys()\n",
    "print(codons)\n",
    "codon_count['gac'] = 6 # with apologies to entimologists...\n",
    "print(codon_count)"
   ]
  },
  {
   "cell_type": "markdown",
   "metadata": {
    "colab_type": "text",
    "id": "xNpgmyOd0gHR"
   },
   "source": [
    "## Iteration\n",
    "https://docs.python.org/3.8/reference/compound_stmts.html#\n",
    "\n",
    "For and while loops"
   ]
  },
  {
   "cell_type": "code",
   "execution_count": 50,
   "metadata": {
    "colab": {},
    "colab_type": "code",
    "id": "mva7sbs-y7lR",
    "outputId": "543066c3-bff6-4cab-fced-d7ac0a09047a"
   },
   "outputs": [
    {
     "name": "stdout",
     "output_type": "stream",
     "text": [
      "My word is: I\n",
      "My word is: like\n",
      "My word is: to\n",
      "My word is: eat\n",
      "My word is: pizza\n",
      "My word is: with\n",
      "My word is: anchovies,\n",
      "My word is: I\n",
      "My word is: actually\n",
      "My word is: do!\n"
     ]
    }
   ],
   "source": [
    "# In old poor languages like Fortran and C, when you iterate, you have to \n",
    "# have a counter, increment it, and all that stuff.  Yeech. \n",
    "# Not so in Python.  You iterate over something that is iterable, that is, \n",
    "# that has (or can produce) a sequence of elements.  Like... a list! \n",
    "my_words = \"I like to eat pizza with anchovies, I actually do!\".split()\n",
    "\n",
    "for w in my_words:\n",
    "    print(\"My word is:\", w)"
   ]
  },
  {
   "cell_type": "code",
   "execution_count": 51,
   "metadata": {
    "colab": {},
    "colab_type": "code",
    "id": "TVSICPjF1MHt",
    "outputId": "d2dcda40-92e4-4ca3-f790-93b284a7ffa6"
   },
   "outputs": [
    {
     "name": "stdout",
     "output_type": "stream",
     "text": [
      "The word number 0 is: I\n",
      "The word number 1 is: like\n",
      "The word number 2 is: to\n",
      "The word number 3 is: eat\n",
      "The word number 4 is: pizza\n",
      "The word number 5 is: with\n",
      "The word number 6 is: anchovies,\n",
      "The word number 7 is: I\n",
      "The word number 8 is: actually\n",
      "The word number 9 is: do!\n"
     ]
    }
   ],
   "source": [
    "# You can also iterate over pairs, consisting of the element index and the list element:\n",
    "for i, w in enumerate(my_words):\n",
    "    print(\"The word number\", i, \"is:\", w)"
   ]
  },
  {
   "cell_type": "code",
   "execution_count": 52,
   "metadata": {
    "colab": {},
    "colab_type": "code",
    "id": "pRbVD4DT1aEI",
    "outputId": "3e071456-d0af-48ca-ce7d-46f6da21b7a5"
   },
   "outputs": [
    {
     "name": "stdout",
     "output_type": "stream",
     "text": [
      "I\n",
      "like\n",
      "to\n",
      "eat\n",
      "pizza\n",
      "with\n",
      "anchovies,\n",
      "   Indeed, they are delicious, no need to say more!\n"
     ]
    }
   ],
   "source": [
    "# If you get tired of iteration, you can break out of it: \n",
    "for w in my_words:\n",
    "    print(w)\n",
    "    if w.startswith('anchovies'):\n",
    "        print(\"   Indeed, they are delicious, no need to say more!\")\n",
    "        break"
   ]
  },
  {
   "cell_type": "code",
   "execution_count": 53,
   "metadata": {
    "colab": {},
    "colab_type": "code",
    "id": "9wtkml541jVB",
    "outputId": "22fa2f08-afb9-4e7c-f246-874837994e7c"
   },
   "outputs": [
    {
     "name": "stdout",
     "output_type": "stream",
     "text": [
      "My integer is: 0\n",
      "My integer is: 1\n",
      "My integer is: 2\n",
      "My integer is: 3\n",
      "My integer is: 4\n",
      "My integer is: 5\n",
      "My integer is: 6\n",
      "My integer is: 7\n",
      "My integer is: 8\n",
      "My integer is: 9\n"
     ]
    }
   ],
   "source": [
    "# And if you need to iterate over indices, like you used to do in C? \n",
    "# Well, you just create... a list of indices! \n",
    "for i in range(10):\n",
    "    print(\"My integer is:\", i)"
   ]
  },
  {
   "cell_type": "code",
   "execution_count": 54,
   "metadata": {
    "colab": {},
    "colab_type": "code",
    "id": "LhzuMNq62FXn",
    "outputId": "52555e9c-c83c-41a5-9819-1a5048ed8c1f"
   },
   "outputs": [
    {
     "name": "stdout",
     "output_type": "stream",
     "text": [
      "I\n",
      "like\n",
      "to\n",
      "eat\n",
      "pizza\n"
     ]
    }
   ],
   "source": [
    "# Note that you can also iterate on list slices:\n",
    "for w in my_words[:5]:\n",
    "    print(w)"
   ]
  },
  {
   "cell_type": "markdown",
   "metadata": {
    "colab_type": "text",
    "id": "rLJGUjp22xL5"
   },
   "source": [
    "Oh btw, did you notice that we are using indentation rather than those \n",
    "pesky { } ?  Some people think it's silly, a throwback to Fortran and \n",
    "punched cards.  I think it's brilliant.  See, in C or Java you have \n",
    "two things: the real structure of the code (indicated by braces) and the illustrated structure (indicated by indentation).  The problem with this is that sometimes indentation and braces they differ, and when they do, the visual indication is fallacious.  In Python, the visual indication is also the structural one, and is always truthful. \n",
    "\n",
    "I am sure you prefer this to a language where there is only structure and no visuals! "
   ]
  },
  {
   "cell_type": "code",
   "execution_count": 55,
   "metadata": {
    "colab": {},
    "colab_type": "code",
    "id": "05zZ65Yc2Vej",
    "outputId": "551512dc-45be-4551-cca5-bfe7afc19f1f"
   },
   "outputs": [
    {
     "name": "stdout",
     "output_type": "stream",
     "text": [
      "Codon: atg\n",
      "Codon: taa\n",
      "Codon: tag\n",
      "Codon: tga\n",
      "Codon: gac\n"
     ]
    }
   ],
   "source": [
    "# If you have a dictionary, you can iterate on it like this. \n",
    "# On keys only (because .keys() returns a view over the keys):\n",
    "for codon in codon_count.keys():\n",
    "    print (\"Codon:\", codon)\n"
   ]
  },
  {
   "cell_type": "code",
   "execution_count": 56,
   "metadata": {
    "colab": {},
    "colab_type": "code",
    "id": "-OKmn62J9uco",
    "outputId": "e2022398-3ae1-44ed-a0c9-3072cf892d67"
   },
   "outputs": [
    {
     "name": "stdout",
     "output_type": "stream",
     "text": [
      "3.0\n",
      "1.875\n",
      "1.171875\n",
      "The final result is: 0.732421875\n"
     ]
    }
   ],
   "source": [
    "# There is also a while statement, which will execute as long as\n",
    "# a condition is True.\n",
    "#\n",
    "# https://docs.python.org/3.8/reference/compound_stmts.html#while\n",
    "\n",
    "x = 3.\n",
    "while x > 1.1:\n",
    "    print(x)\n",
    "    x = x / 1.6\n",
    "print(\"The final result is:\", x)"
   ]
  },
  {
   "cell_type": "code",
   "execution_count": 57,
   "metadata": {},
   "outputs": [
    {
     "name": "stdout",
     "output_type": "stream",
     "text": [
      "0\n",
      "2\n",
      "4\n",
      "6\n",
      "8\n",
      "10\n"
     ]
    }
   ],
   "source": [
    "x = 0\n",
    "while x <= 10:\n",
    "    if x % 2 == 0:\n",
    "        print(x)\n",
    "    x += 1"
   ]
  },
  {
   "cell_type": "markdown",
   "metadata": {
    "colab_type": "text",
    "id": "6qkLsTK93xxF"
   },
   "source": [
    "## Functions\n",
    "https://docs.python.org/3.8/tutorial/controlflow.html#defining-functions"
   ]
  },
  {
   "cell_type": "code",
   "execution_count": 58,
   "metadata": {
    "colab": {},
    "colab_type": "code",
    "id": "zVeg_bdX3qqz",
    "outputId": "e3974d9f-fd6c-4a70-ea0d-c2826b6d3a77"
   },
   "outputs": [
    {
     "data": {
      "text/plain": [
       "5"
      ]
     },
     "execution_count": 58,
     "metadata": {},
     "output_type": "execute_result"
    }
   ],
   "source": [
    "def addone(x):\n",
    "    return x + 1\n",
    "\n",
    "addone(4)"
   ]
  },
  {
   "cell_type": "code",
   "execution_count": 59,
   "metadata": {
    "colab": {},
    "colab_type": "code",
    "id": "3tb5Tjsy-rjt"
   },
   "outputs": [],
   "source": [
    "# Ok, one more argument!  Let's test our CS skill! \n",
    "def add_one_to_prod(x, y):\n",
    "    \"\"\"This function adds one to the product of x and y,\n",
    "    and this is how you are supposed to document what a \n",
    "    function does.\"\"\"\n",
    "    p = x * y\n",
    "    return p + 1"
   ]
  },
  {
   "cell_type": "code",
   "execution_count": 60,
   "metadata": {},
   "outputs": [
    {
     "data": {
      "text/plain": [
       "7"
      ]
     },
     "execution_count": 60,
     "metadata": {},
     "output_type": "execute_result"
    }
   ],
   "source": [
    "add_one_to_prod(2, 3)"
   ]
  },
  {
   "cell_type": "code",
   "execution_count": 61,
   "metadata": {
    "colab": {},
    "colab_type": "code",
    "id": "GiWNWgfLAree",
    "outputId": "09ba89eb-3b4f-4b31-99a0-f067767a4384"
   },
   "outputs": [
    {
     "name": "stdout",
     "output_type": "stream",
     "text": [
      "7\n",
      "4\n"
     ]
    }
   ],
   "source": [
    "# One of the very nice things about Python is that functions can have \n",
    "# optional arguments, which have a default value.\n",
    "def incadd(x, d=1):\n",
    "    return x + d\n",
    "\n",
    "print(incadd(3, d=4))\n",
    "print(incadd(3))"
   ]
  },
  {
   "cell_type": "code",
   "execution_count": 62,
   "metadata": {
    "colab": {},
    "colab_type": "code",
    "id": "GBFW-H8jBjfR",
    "outputId": "9dd22cbc-ac6e-44fe-ed1a-2d9d68250de2"
   },
   "outputs": [
    {
     "name": "stdout",
     "output_type": "stream",
     "text": [
      "3\n",
      "9\n"
     ]
    }
   ],
   "source": [
    "# Often, the optional argument has default value None. \n",
    "# Functions, btw, can be passed around just as regular values.  \n",
    "# Let's try this.  Let us define a function g that squares a number.\n",
    "def g(x):\n",
    "    return x * x\n",
    "\n",
    "def f(x, h=None):\n",
    "    \"\"\"Adds 1 to x, then applies modifier function h if any,\n",
    "    and returns the result.\"\"\"\n",
    "    y = x + 1\n",
    "    return y if h is None else h(y)\n",
    "\n",
    "print(f(2))\n",
    "print(f(2, h=g))"
   ]
  },
  {
   "cell_type": "markdown",
   "metadata": {
    "colab_type": "text",
    "id": "vDyUpa7_L54U"
   },
   "source": [
    "## Importing modules"
   ]
  },
  {
   "cell_type": "code",
   "execution_count": 63,
   "metadata": {
    "colab": {},
    "colab_type": "code",
    "id": "5wYw6n_5L98R",
    "outputId": "c4d1e64e-4768-4d04-f9b1-19d846c5241a"
   },
   "outputs": [
    {
     "data": {
      "text/plain": [
       "1.7320508075688772"
      ]
     },
     "execution_count": 63,
     "metadata": {},
     "output_type": "execute_result"
    }
   ],
   "source": [
    "# Python libraries are organized in modules. \n",
    "# You need to import them before using them. \n",
    "import math\n",
    "math.sqrt(3.)"
   ]
  },
  {
   "cell_type": "code",
   "execution_count": 64,
   "metadata": {
    "colab": {},
    "colab_type": "code",
    "id": "ptW6o8nZMI3v",
    "outputId": "ce593d6d-c26c-456c-b3fb-7e26ca1d77c6"
   },
   "outputs": [
    {
     "data": {
      "text/plain": [
       "1.4142135623730951"
      ]
     },
     "execution_count": 64,
     "metadata": {},
     "output_type": "execute_result"
    }
   ],
   "source": [
    "# If you like, you can also import individual functions from libraries.\n",
    "from math import sqrt as square_root\n",
    "square_root(2.)"
   ]
  },
  {
   "cell_type": "markdown",
   "metadata": {
    "colab_type": "text",
    "id": "jRH24PaU-iso"
   },
   "source": [
    "One of the things that makes Python great is the huge set of modules that are available for it.  You can look at https://docs.python.org/3/library/ for information about the Python standard library, but there is a very large number of modules besides the standard library.  The general rule is, before you try to implement something, look at whether there is a module available that does (part of) what you want to do."
   ]
  },
  {
   "cell_type": "markdown",
   "metadata": {
    "colab_type": "text",
    "id": "v3CGE72REsXJ"
   },
   "source": [
    "## Classes\n",
    "Classes are an integral part of object oriented programming and BME 160. Please read the official documentation and any additional online resources to understand them:\n",
    "\n",
    "https://docs.python.org/3.8/tutorial/classes.html <br>\n",
    "https://www.w3schools.com/python/python_classes.asp <br>\n",
    "https://www.geeksforgeeks.org/python-classes-and-objects/ <br>"
   ]
  },
  {
   "cell_type": "code",
   "execution_count": 65,
   "metadata": {
    "colab": {},
    "colab_type": "code",
    "id": "QkYwW8lIEc1M"
   },
   "outputs": [],
   "source": [
    "# Here is a simple standard class.\n",
    "class Product(object):\n",
    "    \n",
    "    def __init__(self, name, price=0., quantity=0):\n",
    "        \"\"\"In the initializer, you should define the values that each object\n",
    "        has.  Here, 'self' means, the object.\"\"\"\n",
    "        self.name = name \n",
    "        self.price = price\n",
    "        self.quantity = quantity\n",
    "        \n",
    "    def __repr__(self):\n",
    "        \"\"\"Represents a class element in a reasonable way.\n",
    "        Note the format statement below to help produce a string.\"\"\"\n",
    "        return \"Hello, I am a {} and cost ${}; you have {} of me\".format(\n",
    "            self.name, self.price, self.quantity\n",
    "        )\n",
    "            \n",
    "    \n",
    "    def inflation(self, x):\n",
    "        \"\"\"Increases the price by a factor x.\n",
    "        Note how self is always the first argument of methods; otherwise,\n",
    "        you would not know to which object to apply the operations.\"\"\"\n",
    "        self.price *= x\n",
    "        \n",
    "    def value(self):\n",
    "        \"\"\"Total value of products of this type.\"\"\"\n",
    "        return self.price * self.quantity\n",
    "        "
   ]
  },
  {
   "cell_type": "code",
   "execution_count": 66,
   "metadata": {
    "colab": {},
    "colab_type": "code",
    "id": "Vjif1xPIOn3L"
   },
   "outputs": [],
   "source": [
    "# Let's make a list of products.\n",
    "cart = [\n",
    "    Product('Pear', price=1.99, quantity=10),\n",
    "    Product('Apple', price=0.99, quantity=15),\n",
    "    Product('Onion', price=1.49, quantity=57)\n",
    "]"
   ]
  },
  {
   "cell_type": "code",
   "execution_count": 67,
   "metadata": {
    "colab": {},
    "colab_type": "code",
    "id": "A-np4oPXOmzG",
    "outputId": "f3723cdf-beec-4520-f968-c10d0154139d"
   },
   "outputs": [
    {
     "name": "stdout",
     "output_type": "stream",
     "text": [
      "Hello, I am a Pear and cost $1.99; you have 10 of me\n",
      "Hello, I am a Apple and cost $0.99; you have 15 of me\n",
      "Hello, I am a Onion and cost $1.49; you have 57 of me\n"
     ]
    }
   ],
   "source": [
    "# We can print it; the representation is given by __repr__. \n",
    "for p in cart:\n",
    "    print(p)"
   ]
  },
  {
   "cell_type": "code",
   "execution_count": 68,
   "metadata": {
    "colab": {},
    "colab_type": "code",
    "id": "bqSkhbxMPYkz",
    "outputId": "c48dd66b-1a4e-4d78-8e76-3898f23cb2d1"
   },
   "outputs": [
    {
     "name": "stdout",
     "output_type": "stream",
     "text": [
      "Hello, I am a Pear and cost $1.99; you have 20 of me\n",
      "Hello, I am a Apple and cost $0.99; you have 30 of me\n",
      "Hello, I am a Onion and cost $1.49; you have 114 of me\n"
     ]
    }
   ],
   "source": [
    "# What if you buy more apples?  \n",
    "# The proper way would be to define a buy method, and write \n",
    "# something like p.buy(10) to buy 10 more.  But in Python, there is \n",
    "# nothing to prevent you from accessing object variables directly.\n",
    "\n",
    "def double_the_cart(c):\n",
    "    for p in c:\n",
    "        p.quantity *= 2\n",
    "        \n",
    "double_the_cart(cart)\n",
    "\n",
    "def print_cart(c):\n",
    "    for p in c:\n",
    "        print(p)\n",
    "        \n",
    "print_cart(cart)"
   ]
  },
  {
   "cell_type": "markdown",
   "metadata": {},
   "source": [
    "# Bioinformatics Example\n",
    "### Central Dogma\n",
    "Transribe a DNA sequence into a protein"
   ]
  },
  {
   "cell_type": "code",
   "execution_count": 69,
   "metadata": {},
   "outputs": [
    {
     "name": "stdout",
     "output_type": "stream",
     "text": [
      "DNA: sequence: ATGGAACTTGACTACGTAAATTAGT\n",
      "MELDYVN-"
     ]
    }
   ],
   "source": [
    "rnaCodonTable = {\n",
    "        # RNA codon table\n",
    "        # U\n",
    "        'UUU': 'F', 'UCU': 'S', 'UAU': 'Y', 'UGU': 'C',  # UxU\n",
    "        'UUC': 'F', 'UCC': 'S', 'UAC': 'Y', 'UGC': 'C',  # UxC\n",
    "        'UUA': 'L', 'UCA': 'S', 'UAA': '-', 'UGA': '-',  # UxA\n",
    "        'UUG': 'L', 'UCG': 'S', 'UAG': '-', 'UGG': 'W',  # UxG\n",
    "        # C\n",
    "        'CUU': 'L', 'CCU': 'P', 'CAU': 'H', 'CGU': 'R',  # CxU\n",
    "        'CUC': 'L', 'CCC': 'P', 'CAC': 'H', 'CGC': 'R',  # CxC\n",
    "        'CUA': 'L', 'CCA': 'P', 'CAA': 'Q', 'CGA': 'R',  # CxA\n",
    "        'CUG': 'L', 'CCG': 'P', 'CAG': 'Q', 'CGG': 'R',  # CxG\n",
    "        # A\n",
    "        'AUU': 'I', 'ACU': 'T', 'AAU': 'N', 'AGU': 'S',  # AxU\n",
    "        'AUC': 'I', 'ACC': 'T', 'AAC': 'N', 'AGC': 'S',  # AxC\n",
    "        'AUA': 'I', 'ACA': 'T', 'AAA': 'K', 'AGA': 'R',  # AxA\n",
    "        'AUG': 'M', 'ACG': 'T', 'AAG': 'K', 'AGG': 'R',  # AxG\n",
    "        # G\n",
    "        'GUU': 'V', 'GCU': 'A', 'GAU': 'D', 'GGU': 'G',  # GxU\n",
    "        'GUC': 'V', 'GCC': 'A', 'GAC': 'D', 'GGC': 'G',  # GxC\n",
    "        'GUA': 'V', 'GCA': 'A', 'GAA': 'E', 'GGA': 'G',  # GxA\n",
    "        'GUG': 'V', 'GCG': 'A', 'GAG': 'E', 'GGG': 'G'   # GxG\n",
    "    }\n",
    "\n",
    "# ATGGAACTTGACTACGTAAATTAGT\n",
    "dnaSeq = input('DNA: sequence: ') # prompt the user to input a DNA sequence\n",
    "rnaSeq = dnaSeq.upper().replace('T','U') # uppercase the sequence and convert to RNA\n",
    "\n",
    "for i in range(0, len(rnaSeq), 3):               # split the rna sequence to get\n",
    "    codon = rnaSeq[i:i+3]                        # non-overlapping codons\n",
    "    print(rnaCodonTable.get(codon, ''), end='')  # print the protein using the rnaCodonTable \n",
    "                                                 #    (not valid codons do not print)"
   ]
  },
  {
   "cell_type": "markdown",
   "metadata": {},
   "source": [
    "# Bioinformatics Practice Questions"
   ]
  },
  {
   "cell_type": "markdown",
   "metadata": {},
   "source": [
    "The following are several bioinformatics oriented practice problems. I higly recommend [BME 160](https://courses.soe.ucsc.edu/courses/bme160) for those interested in a bioinformatics programming class and [Rosalind](http://rosalind.info/problems/locations/) as a great resource to get started with more practice problems."
   ]
  },
  {
   "cell_type": "markdown",
   "metadata": {},
   "source": [
    "### Counting DNA Nucleiotides\n",
    "Count the number of A, T, C, G nucleodes in a string input. This is the first problem in [Rosalind](http://rosalind.info/problems/dna/)\n"
   ]
  },
  {
   "cell_type": "code",
   "execution_count": null,
   "metadata": {},
   "outputs": [],
   "source": [
    "pass"
   ]
  },
  {
   "cell_type": "code",
   "execution_count": 70,
   "metadata": {},
   "outputs": [
    {
     "name": "stdout",
     "output_type": "stream",
     "text": [
      "20 17 12 21\n"
     ]
    }
   ],
   "source": [
    "# One method to do the above question. There are many different ways to get the same result.\n",
    "\n",
    "seq = 'AGCTTTTCATTCTGACTGCAACGGGCAATATGTCTCTGTGTGGATTAAAAAAAGAGTGTCTGATAGCAGC'\n",
    "print(seq.count(\"A\"), seq.count(\"G\"), seq.count(\"C\"), seq.count(\"T\"))"
   ]
  },
  {
   "cell_type": "markdown",
   "metadata": {},
   "source": [
    "### DNA to RNA\n",
    "Convert a DNA input to RNA\n",
    "\n",
    "Example:\n",
    "ATCGCG -> ATCGCG"
   ]
  },
  {
   "cell_type": "code",
   "execution_count": null,
   "metadata": {},
   "outputs": [],
   "source": [
    "pass"
   ]
  },
  {
   "cell_type": "markdown",
   "metadata": {},
   "source": [
    "### Reverse Complement of DNA\n",
    "Return the reverse complement of a DNA input"
   ]
  },
  {
   "cell_type": "code",
   "execution_count": null,
   "metadata": {},
   "outputs": [],
   "source": [
    "pass"
   ]
  },
  {
   "cell_type": "markdown",
   "metadata": {},
   "source": [
    "### Unique Codons\n",
    "Identify the count of unique codons in a DNA input"
   ]
  },
  {
   "cell_type": "code",
   "execution_count": null,
   "metadata": {},
   "outputs": [],
   "source": [
    "pass"
   ]
  }
 ],
 "metadata": {
  "colab": {
   "collapsed_sections": [
    "0ZEC4V3pjalH",
    "FrOuZWcdbkyh",
    "23NhvjOzSlu4",
    "Zb4bybUiS3qz",
    "At7-_WM6bn6A",
    "xFAS-L5uZtff",
    "IyTNBT8sh-UE",
    "8USdvrcJvk9n",
    "PNT4q5Ks7v79",
    "xNpgmyOd0gHR",
    "6qkLsTK93xxF",
    "iPp6yJhCApcR",
    "vDyUpa7_L54U",
    "dRtVOqsBC4AJ",
    "v3CGE72REsXJ",
    "GiIDiPF-QqeS"
   ],
   "name": "Introduction_to_Python_3_chapter.ipynb",
   "provenance": []
  },
  "kernelspec": {
   "display_name": "Python 3",
   "language": "python",
   "name": "python3"
  },
  "language_info": {
   "codemirror_mode": {
    "name": "ipython",
    "version": 3
   },
   "file_extension": ".py",
   "mimetype": "text/x-python",
   "name": "python",
   "nbconvert_exporter": "python",
   "pygments_lexer": "ipython3",
   "version": "3.7.5"
  }
 },
 "nbformat": 4,
 "nbformat_minor": 1
}
