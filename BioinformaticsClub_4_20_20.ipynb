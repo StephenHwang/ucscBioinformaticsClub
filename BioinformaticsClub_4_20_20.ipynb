{
 "cells": [
  {
   "cell_type": "markdown",
   "metadata": {},
   "source": [
    "# Bioinformatics Club (4/20/20)\n",
    "Meeting going over git, packages (matplotlib, numpy, pandas), and plotting in Python (matplotlib).\n",
    "\n",
    "Git is a distributed version-contorl system for tracking changes in code. See this [link](https://git-scm.com/book/en/v2)  for a great guide. We will be using conda to manage many of our packages in a contained environment. See this [documentation](https://docs.conda.io/projects/conda/en/latest/user-guide/tasks/manage-environments.html) for more on conda environments.\n",
    "\n",
    "Packages we will be using today:\n",
    "* [pandas](https://pandas.pydata.org/) - a fast, powerful, flexible and easy to use open source data analysis and manipulation tool\n",
    "* [numpy](https://numpy.org/) - a fundamental package for scientific computing with Python with features for N-dimensional arrays and linear algebra\n",
    "* [matplotlib](https://matplotlib.org/) - a comprehensive library for creating static, animated, and interactive visualizations in Python\n",
    "\n",
    "**Note:** This cell was typed in markdown. Markdown is markup language with formatting syntex made to be converted to other formats. See this [link](https://guides.github.com/features/mastering-markdown/) for more resources on markdown. It is used in git readme files.\n"
   ]
  },
  {
   "cell_type": "code",
   "execution_count": 1,
   "metadata": {},
   "outputs": [],
   "source": [
    " # import packages using \"import <packageName>\"\n",
    "import matplotlib.pyplot as plt\n",
    "import numpy as np\n",
    "import pandas as pd"
   ]
  },
  {
   "cell_type": "markdown",
   "metadata": {},
   "source": [
    "## Reading data\n",
    "\n",
    "Let's try reading in data using [pandas](https://pandas.pydata.org/). The data we will be looking at is from the *BMC Plant Biology* paper [*Developmental profiling of gene expression in soybean trifoliate leaves and cotyledons*](https://bmcplantbiol.biomedcentral.com/articles/10.1186/s12870-015-0553-y#additional-information). \n",
    "\n",
    "We will be using the data found in [Additional file 4](https://static-content.springer.com/esm/art%3A10.1186%2Fs12870-015-0553-y/MediaObjects/12870_2015_553_MOESM4_ESM.xlsx) containing normalized count data for all genes in the leaf and cotyledon tissues. \n"
   ]
  },
  {
   "cell_type": "code",
   "execution_count": null,
   "metadata": {},
   "outputs": [],
   "source": [
    "pass"
   ]
  },
  {
   "cell_type": "markdown",
   "metadata": {},
   "source": [
    "## Preparing data\n",
    "\n",
    "Use [numpy](https://numpy.org/) to apply log2 to all elements in our desired subset data. We use log2 to aid in calculate fold change, a measure describing how much a quantity changes between an original and a subsequent measurement. In this case we want to analyze how replicates gene expression compare to each other.\n"
   ]
  },
  {
   "cell_type": "code",
   "execution_count": null,
   "metadata": {},
   "outputs": [],
   "source": [
    "pass"
   ]
  },
  {
   "cell_type": "markdown",
   "metadata": {},
   "source": [
    "## Plotting\n",
    "\n",
    "Plot a scatter plot using the [matplotlib plot function](https://matplotlib.org/3.2.1/api/_as_gen/matplotlib.pyplot.plot.html)."
   ]
  },
  {
   "cell_type": "code",
   "execution_count": null,
   "metadata": {},
   "outputs": [],
   "source": [
    "pass"
   ]
  }
 ],
 "metadata": {
  "kernelspec": {
   "display_name": "Python 3",
   "language": "python",
   "name": "python3"
  },
  "language_info": {
   "codemirror_mode": {
    "name": "ipython",
    "version": 3
   },
   "file_extension": ".py",
   "mimetype": "text/x-python",
   "name": "python",
   "nbconvert_exporter": "python",
   "pygments_lexer": "ipython3",
   "version": "3.7.5"
  }
 },
 "nbformat": 4,
 "nbformat_minor": 2
}
